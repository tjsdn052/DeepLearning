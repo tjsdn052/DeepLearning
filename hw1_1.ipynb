{
 "cells": [
  {
   "cell_type": "markdown",
   "id": "5b28cf95-9733-4521-9b62-277ffdb59a1d",
   "metadata": {},
   "source": [
    "# **02_Tensors**"
   ]
  },
  {
   "cell_type": "markdown",
   "id": "9ccc429b-007b-46c1-98dc-34b51da22107",
   "metadata": {},
   "source": [
    "## **a_tensor_initialization.py**"
   ]
  },
  {
   "cell_type": "markdown",
   "id": "0f198cf9-5c61-4128-a4b4-0f564d251f2f",
   "metadata": {},
   "source": [
    "tensor란? 다차원 배열 객체"
   ]
  },
  {
   "cell_type": "code",
   "execution_count": 1,
   "id": "33302b5a-9108-4267-a32b-610bbf618843",
   "metadata": {},
   "outputs": [],
   "source": [
    "import torch"
   ]
  },
  {
   "cell_type": "code",
   "execution_count": 2,
   "id": "a4697265-a6e3-42c2-82c1-31592680530a",
   "metadata": {},
   "outputs": [
    {
     "name": "stdout",
     "output_type": "stream",
     "text": [
      "torch.float32\n",
      "cpu\n",
      "False\n",
      "torch.Size([3])\n",
      "torch.Size([3])\n"
     ]
    }
   ],
   "source": [
    "# torch.Tensor class\n",
    "t1 = torch.Tensor([1, 2, 3], device='cpu')\n",
    "print(t1.dtype)  \n",
    "print(t1.device) \n",
    "print(t1.requires_grad)  \n",
    "print(t1.size())  \n",
    "print(t1.shape)   "
   ]
  },
  {
   "cell_type": "markdown",
   "id": "a7cf74d8-c0ac-43a5-ab5c-21385bf17bbb",
   "metadata": {},
   "source": [
    "텐서 생성 및 데이터 타입, 장치, 기울기 계산 필요, 크기 출력"
   ]
  },
  {
   "cell_type": "code",
   "execution_count": 3,
   "id": "14e06287-f21c-4ed9-a64d-79a7e74947c7",
   "metadata": {},
   "outputs": [
    {
     "name": "stdout",
     "output_type": "stream",
     "text": [
      "################################################## 1\n"
     ]
    }
   ],
   "source": [
    "t1_cpu = t1.cpu()\n",
    "\n",
    "print(\"#\" * 50, 1)"
   ]
  },
  {
   "cell_type": "code",
   "execution_count": 4,
   "id": "446b9f6c-29ba-49fa-a99a-5a0d9399b26d",
   "metadata": {},
   "outputs": [
    {
     "name": "stdout",
     "output_type": "stream",
     "text": [
      "torch.int64\n",
      "cpu\n",
      "False\n",
      "torch.Size([3])\n",
      "torch.Size([3])\n"
     ]
    }
   ],
   "source": [
    "t2 = torch.tensor([1, 2, 3], device='cpu')\n",
    "print(t2.dtype) \n",
    "print(t2.device) \n",
    "print(t2.requires_grad) \n",
    "print(t2.size()) \n",
    "print(t2.shape)  "
   ]
  },
  {
   "cell_type": "markdown",
   "id": "1863b948-c952-40b5-b29e-086e1001ac73",
   "metadata": {},
   "source": [
    "t2 텐서 생성"
   ]
  },
  {
   "cell_type": "code",
   "execution_count": 5,
   "id": "bcbbda71-9b6f-442f-8af5-1ea9cb2e2884",
   "metadata": {},
   "outputs": [
    {
     "name": "stdout",
     "output_type": "stream",
     "text": [
      "################################################## 2\n"
     ]
    }
   ],
   "source": [
    "t2_cpu = t2.cpu()\n",
    "\n",
    "print(\"#\" * 50, 2)"
   ]
  },
  {
   "cell_type": "code",
   "execution_count": 6,
   "id": "ca733c15-5566-4d70-9d62-cab1ac95cc0a",
   "metadata": {},
   "outputs": [
    {
     "name": "stdout",
     "output_type": "stream",
     "text": [
      "torch.Size([]) 0\n"
     ]
    }
   ],
   "source": [
    "a1 = torch.tensor(1)\t\t\t   \n",
    "print(a1.shape, a1.ndim)"
   ]
  },
  {
   "cell_type": "markdown",
   "id": "f343ec43-281c-49e1-993a-3a3cbc13fa05",
   "metadata": {},
   "source": [
    "0차원 텐서 a1 생성<br>형태 및 차원 반환 (0차원)"
   ]
  },
  {
   "cell_type": "code",
   "execution_count": 7,
   "id": "6bebc6e4-7724-453f-af5a-40fd86d60196",
   "metadata": {},
   "outputs": [
    {
     "name": "stdout",
     "output_type": "stream",
     "text": [
      "torch.Size([1]) 1\n"
     ]
    }
   ],
   "source": [
    "a2 = torch.tensor([1])\t\t  \t     \n",
    "print(a2.shape, a2.ndim)"
   ]
  },
  {
   "cell_type": "markdown",
   "id": "303d29d6-4518-44c3-8a35-94db87e84277",
   "metadata": {},
   "source": [
    "1차원 텐서 a2 생성<br>\n",
    "형태 및 차원 반환 (1차원)"
   ]
  },
  {
   "cell_type": "code",
   "execution_count": 8,
   "id": "68acb41d-c1a0-4193-901c-54c198b02f6d",
   "metadata": {},
   "outputs": [
    {
     "name": "stdout",
     "output_type": "stream",
     "text": [
      "torch.Size([5]) 1\n"
     ]
    }
   ],
   "source": [
    "a3 = torch.tensor([1, 2, 3, 4, 5])   \n",
    "print(a3.shape, a3.ndim)"
   ]
  },
  {
   "cell_type": "markdown",
   "id": "2672bcae-44fb-4a3d-9f8e-f0d3e37a1b5f",
   "metadata": {},
   "source": [
    "5개 요소 지닌 1차원 텐서 a3 생성"
   ]
  },
  {
   "cell_type": "code",
   "execution_count": 9,
   "id": "3e2ec020-b5e8-47cc-adcf-8859667bf049",
   "metadata": {},
   "outputs": [
    {
     "name": "stdout",
     "output_type": "stream",
     "text": [
      "torch.Size([5, 1]) 2\n"
     ]
    }
   ],
   "source": [
    "a4 = torch.tensor([[1], [2], [3], [4], [5]]) \n",
    "print(a4.shape, a4.ndim)"
   ]
  },
  {
   "cell_type": "markdown",
   "id": "1af48bb0-060c-4bff-b66e-3fcfa3876d78",
   "metadata": {},
   "source": [
    "5행 1열의 2차원 텐서 a4 생성"
   ]
  },
  {
   "cell_type": "code",
   "execution_count": 10,
   "id": "d4263ba0-e641-4308-bd31-4cbeef0c9edf",
   "metadata": {},
   "outputs": [
    {
     "name": "stdout",
     "output_type": "stream",
     "text": [
      "torch.Size([3, 2]) 2\n"
     ]
    }
   ],
   "source": [
    "a5 = torch.tensor([              \n",
    "    [1, 2],\n",
    "    [3, 4],\n",
    "    [5, 6]\n",
    "])\n",
    "print(a5.shape, a5.ndim)"
   ]
  },
  {
   "cell_type": "markdown",
   "id": "7111b874-bad8-4c68-ae61-9ee036850b8a",
   "metadata": {},
   "source": [
    "3행 2열의 2차원 텐서 a5 생성"
   ]
  },
  {
   "cell_type": "code",
   "execution_count": 11,
   "id": "b0775902-003b-44e0-aec5-78bbebb4d517",
   "metadata": {},
   "outputs": [
    {
     "name": "stdout",
     "output_type": "stream",
     "text": [
      "torch.Size([3, 2, 1]) 3\n"
     ]
    }
   ],
   "source": [
    "a6 = torch.tensor([               \n",
    "    [[1], [2]],\n",
    "    [[3], [4]],\n",
    "    [[5], [6]]\n",
    "])\n",
    "print(a6.shape, a6.ndim)"
   ]
  },
  {
   "cell_type": "markdown",
   "id": "ec8bf912-e3fd-4434-90d2-db686673dfb1",
   "metadata": {},
   "source": [
    "3개의 2차원 배열을 지닌 3차원 텐서 a6 생성"
   ]
  },
  {
   "cell_type": "code",
   "execution_count": 12,
   "id": "be2da25f-3dda-460a-8b9e-e381f7071845",
   "metadata": {},
   "outputs": [
    {
     "name": "stdout",
     "output_type": "stream",
     "text": [
      "torch.Size([3, 1, 2, 1]) 4\n"
     ]
    }
   ],
   "source": [
    "a7 = torch.tensor([               \n",
    "    [[[1], [2]]],\n",
    "    [[[3], [4]]],\n",
    "    [[[5], [6]]]\n",
    "])\n",
    "print(a7.shape, a7.ndim)"
   ]
  },
  {
   "cell_type": "markdown",
   "id": "b9e8e0ce-b774-47fd-a4d0-cc1d052ffa1e",
   "metadata": {},
   "source": [
    "3개의 3차원 배열을 지닌 4차원 텐서 a7 생성"
   ]
  },
  {
   "cell_type": "code",
   "execution_count": 13,
   "id": "c13df1ab-a221-4fd1-bd29-369e7cd48dbc",
   "metadata": {},
   "outputs": [
    {
     "name": "stdout",
     "output_type": "stream",
     "text": [
      "torch.Size([3, 1, 2, 3]) 4\n"
     ]
    }
   ],
   "source": [
    "a8 = torch.tensor([                \n",
    "    [[[1, 2, 3], [2, 3, 4]]],\n",
    "    [[[3, 1, 1], [4, 4, 5]]],\n",
    "    [[[5, 6, 2], [6, 3, 1]]]\n",
    "])\n",
    "print(a8.shape, a8.ndim)"
   ]
  },
  {
   "cell_type": "markdown",
   "id": "89e01b36-946e-499a-bae3-95a17bbbbf60",
   "metadata": {},
   "source": [
    "3개의 3차원 배열을 지닌 4차원 텐서 a8 생성"
   ]
  },
  {
   "cell_type": "code",
   "execution_count": 14,
   "id": "91a0ee10-401a-4394-affd-0ab2ef212301",
   "metadata": {},
   "outputs": [
    {
     "name": "stdout",
     "output_type": "stream",
     "text": [
      "torch.Size([3, 1, 2, 3, 1]) 5\n"
     ]
    }
   ],
   "source": [
    "a9 = torch.tensor([                \n",
    "    [[[[1], [2], [3]], [[2], [3], [4]]]],\n",
    "    [[[[3], [1], [1]], [[4], [4], [5]]]],\n",
    "    [[[[5], [6], [2]], [[6], [3], [1]]]]\n",
    "])\n",
    "print(a9.shape, a9.ndim)"
   ]
  },
  {
   "cell_type": "markdown",
   "id": "e48385e4-da30-46cb-bace-94c8c6c9586b",
   "metadata": {},
   "source": [
    "3개의 4차원 배열 갖는 텐서 a9 생성"
   ]
  },
  {
   "cell_type": "code",
   "execution_count": 15,
   "id": "f583c6c1-daa6-406f-9825-49c7e39f465e",
   "metadata": {},
   "outputs": [
    {
     "name": "stdout",
     "output_type": "stream",
     "text": [
      "torch.Size([4, 5]) 2\n"
     ]
    }
   ],
   "source": [
    "a10 = torch.tensor([               \n",
    "    [1, 2, 3, 4, 5],\n",
    "    [1, 2, 3, 4, 5],\n",
    "    [1, 2, 3, 4, 5],\n",
    "    [1, 2, 3, 4, 5],\n",
    "])\n",
    "print(a10.shape, a10.ndim)"
   ]
  },
  {
   "cell_type": "markdown",
   "id": "6949c109-f8e8-4e2c-b919-9bddd39d1254",
   "metadata": {},
   "source": [
    "2차원 텐서 a10 생성"
   ]
  },
  {
   "cell_type": "code",
   "execution_count": 16,
   "id": "af721b28-03f6-443d-ab5a-f27a52994182",
   "metadata": {
    "scrolled": true
   },
   "outputs": [
    {
     "ename": "ValueError",
     "evalue": "expected sequence of length 3 at dim 3 (got 2)",
     "output_type": "error",
     "traceback": [
      "\u001b[1;31m---------------------------------------------------------------------------\u001b[0m",
      "\u001b[1;31mValueError\u001b[0m                                Traceback (most recent call last)",
      "Cell \u001b[1;32mIn[16], line 1\u001b[0m\n\u001b[1;32m----> 1\u001b[0m a11 \u001b[38;5;241m=\u001b[39m \u001b[43mtorch\u001b[49m\u001b[38;5;241;43m.\u001b[39;49m\u001b[43mtensor\u001b[49m\u001b[43m(\u001b[49m\u001b[43m[\u001b[49m\u001b[43m                 \u001b[49m\u001b[38;5;66;43;03m# ValueError: expected sequence of length 3 at dim 3 (got 2)\u001b[39;49;00m\n\u001b[0;32m      2\u001b[0m \u001b[43m    \u001b[49m\u001b[43m[\u001b[49m\u001b[43m[\u001b[49m\u001b[43m[\u001b[49m\u001b[38;5;241;43m1\u001b[39;49m\u001b[43m,\u001b[49m\u001b[43m \u001b[49m\u001b[38;5;241;43m2\u001b[39;49m\u001b[43m,\u001b[49m\u001b[43m \u001b[49m\u001b[38;5;241;43m3\u001b[39;49m\u001b[43m]\u001b[49m\u001b[43m,\u001b[49m\u001b[43m \u001b[49m\u001b[43m[\u001b[49m\u001b[38;5;241;43m4\u001b[39;49m\u001b[43m,\u001b[49m\u001b[43m \u001b[49m\u001b[38;5;241;43m5\u001b[39;49m\u001b[43m]\u001b[49m\u001b[43m]\u001b[49m\u001b[43m]\u001b[49m\u001b[43m,\u001b[49m\n\u001b[0;32m      3\u001b[0m \u001b[43m    \u001b[49m\u001b[43m[\u001b[49m\u001b[43m[\u001b[49m\u001b[43m[\u001b[49m\u001b[38;5;241;43m1\u001b[39;49m\u001b[43m,\u001b[49m\u001b[43m \u001b[49m\u001b[38;5;241;43m2\u001b[39;49m\u001b[43m,\u001b[49m\u001b[43m \u001b[49m\u001b[38;5;241;43m3\u001b[39;49m\u001b[43m]\u001b[49m\u001b[43m,\u001b[49m\u001b[43m \u001b[49m\u001b[43m[\u001b[49m\u001b[38;5;241;43m4\u001b[39;49m\u001b[43m,\u001b[49m\u001b[43m \u001b[49m\u001b[38;5;241;43m5\u001b[39;49m\u001b[43m]\u001b[49m\u001b[43m]\u001b[49m\u001b[43m]\u001b[49m\u001b[43m,\u001b[49m\n\u001b[0;32m      4\u001b[0m \u001b[43m    \u001b[49m\u001b[43m[\u001b[49m\u001b[43m[\u001b[49m\u001b[43m[\u001b[49m\u001b[38;5;241;43m1\u001b[39;49m\u001b[43m,\u001b[49m\u001b[43m \u001b[49m\u001b[38;5;241;43m2\u001b[39;49m\u001b[43m,\u001b[49m\u001b[43m \u001b[49m\u001b[38;5;241;43m3\u001b[39;49m\u001b[43m]\u001b[49m\u001b[43m,\u001b[49m\u001b[43m \u001b[49m\u001b[43m[\u001b[49m\u001b[38;5;241;43m4\u001b[39;49m\u001b[43m,\u001b[49m\u001b[43m \u001b[49m\u001b[38;5;241;43m5\u001b[39;49m\u001b[43m]\u001b[49m\u001b[43m]\u001b[49m\u001b[43m]\u001b[49m\u001b[43m,\u001b[49m\n\u001b[0;32m      5\u001b[0m \u001b[43m    \u001b[49m\u001b[43m[\u001b[49m\u001b[43m[\u001b[49m\u001b[43m[\u001b[49m\u001b[38;5;241;43m1\u001b[39;49m\u001b[43m,\u001b[49m\u001b[43m \u001b[49m\u001b[38;5;241;43m2\u001b[39;49m\u001b[43m,\u001b[49m\u001b[43m \u001b[49m\u001b[38;5;241;43m3\u001b[39;49m\u001b[43m]\u001b[49m\u001b[43m,\u001b[49m\u001b[43m \u001b[49m\u001b[43m[\u001b[49m\u001b[38;5;241;43m4\u001b[39;49m\u001b[43m,\u001b[49m\u001b[43m \u001b[49m\u001b[38;5;241;43m5\u001b[39;49m\u001b[43m]\u001b[49m\u001b[43m]\u001b[49m\u001b[43m]\u001b[49m\u001b[43m,\u001b[49m\n\u001b[0;32m      6\u001b[0m \u001b[43m]\u001b[49m\u001b[43m)\u001b[49m\n",
      "\u001b[1;31mValueError\u001b[0m: expected sequence of length 3 at dim 3 (got 2)"
     ]
    }
   ],
   "source": [
    "a11 = torch.tensor([                 # ValueError: expected sequence of length 3 at dim 3 (got 2)\n",
    "    [[[1, 2, 3], [4, 5]]],\n",
    "    [[[1, 2, 3], [4, 5]]],\n",
    "    [[[1, 2, 3], [4, 5]]],\n",
    "    [[[1, 2, 3], [4, 5]]],\n",
    "])"
   ]
  },
  {
   "cell_type": "markdown",
   "id": "18afee26-7abe-4f36-8a6f-80f6e237358a",
   "metadata": {},
   "source": [
    "내부 리스트의 길이가 달라 오류 발생"
   ]
  },
  {
   "cell_type": "markdown",
   "id": "f0f07e4a-258a-4251-a305-53c37fd8b4fa",
   "metadata": {},
   "source": [
    "\n",
    "==========================================================================================<br>\n",
    "ex)\n",
    "```python\n",
    "a8 = torch.tensor([                \n",
    "    [[[1, 2, 3], [2, 3, 4]]],\n",
    "    [[[3, 1, 1], [4, 4, 5]]],\n",
    "    [[[5, 6, 2], [6, 3, 1]]]\n",
    "])\n",
    "print(a8.shape, a8.ndim)\n",
    "\n",
    "\n",
    ">>> torch.Size([3, 1, 2, 1]) 4 \n",
    "```\n",
    "\n",
    "의미 : 첫번째 차원에 3개의 요소, 두번째 차원에 1개의 요소, 3번째 차원에 2개의 요소, 4번째 차원에 1개의 요소, 4차원"
   ]
  },
  {
   "cell_type": "markdown",
   "id": "42a97ce7-42d9-4204-8954-b151bd88c041",
   "metadata": {},
   "source": [
    "## **b_tensor_initialization_copy.py**"
   ]
  },
  {
   "cell_type": "code",
   "execution_count": null,
   "id": "3a52da72-4993-4afc-936e-43d988481b87",
   "metadata": {},
   "outputs": [],
   "source": [
    "import torch\n",
    "import numpy as np"
   ]
  },
  {
   "cell_type": "code",
   "execution_count": null,
   "id": "78d13fc8-036d-44b4-9e4c-eeceadb11c23",
   "metadata": {},
   "outputs": [],
   "source": [
    "l1 = [1, 2, 3]\n",
    "t1 = torch.Tensor(l1) # float32 데이터 타입의 텐서 생성\n",
    "\n",
    "l2 = [1, 2, 3]\n",
    "t2 = torch.tensor(l2) # int64 데이터 타입의 텐서 생성\n",
    "\n",
    "l3 = [1, 2, 3]\n",
    "t3 = torch.as_tensor(l3) # 데이터를 텐서로 변환\n",
    "\n",
    "l1[0] = 100\n",
    "l2[0] = 100\n",
    "l3[0] = 100\n",
    "\n",
    "print(t1)\n",
    "print(t2)\n",
    "print(t3)\n",
    "\n",
    "print(\"#\" * 100)"
   ]
  },
  {
   "cell_type": "markdown",
   "id": "23349318-8d93-40d5-bc7d-d75b37d08a09",
   "metadata": {},
   "source": [
    "생성시 새로운 메모리에 데이터 할당(메모리 참조 x)<br>\n",
    "Tensor() => float32 데이터 타입의 텐서 생성 <br>\n",
    "tensor() => int64 데이터 타입의 텐서 생성 \n",
    "\n"
   ]
  },
  {
   "cell_type": "code",
   "execution_count": null,
   "id": "9a38bd67-1fa0-45e2-bebc-9fd41c319f84",
   "metadata": {},
   "outputs": [],
   "source": [
    "l4 = np.array([1, 2, 3])\n",
    "t4 = torch.Tensor(l4)\n",
    "\n",
    "l5 = np.array([1, 2, 3])\n",
    "t5 = torch.tensor(l5)\n",
    "\n",
    "l6 = np.array([1, 2, 3])\n",
    "t6 = torch.as_tensor(l6)\n",
    "\n",
    "l4[0] = 100\n",
    "l5[0] = 100\n",
    "l6[0] = 100\n",
    "\n",
    "print(t4)\n",
    "print(t5)\n",
    "print(t6)"
   ]
  },
  {
   "cell_type": "markdown",
   "id": "71f27470-2b81-4cd0-8f51-6816879adbe3",
   "metadata": {},
   "source": [
    "numpy를 지닐땐 as_tenser 이용하여 바로 참조 가능 t6만 값이 바뀜"
   ]
  },
  {
   "cell_type": "markdown",
   "id": "bf59e1ee-98a3-49f0-a6e4-92928d8a1f61",
   "metadata": {},
   "source": [
    "## **c_tensor_initialization_constant_values.py**"
   ]
  },
  {
   "cell_type": "code",
   "execution_count": null,
   "id": "b30de458-e67f-4305-b7d3-11f74c6047bb",
   "metadata": {},
   "outputs": [],
   "source": [
    "import torch"
   ]
  },
  {
   "cell_type": "code",
   "execution_count": null,
   "id": "9ff02ddb-ed05-42f5-b873-7ab132961d7a",
   "metadata": {},
   "outputs": [],
   "source": [
    "t1 = torch.ones(size=(5,)) \n",
    "t1_like = torch.ones_like(input=t1)\n",
    "print(t1) \n",
    "print(t1_like)  "
   ]
  },
  {
   "cell_type": "markdown",
   "id": "0c250a98-89ed-4629-a143-4db36a7e7e83",
   "metadata": {},
   "source": [
    "데이터를 일일이 채울 필요 없음<br>\n",
    "torch.ones(size) => size 만큼 1로 채워진 텐서 반환<br>\n",
    "torch.ones_like(input) => input 텐서와 같은 사이즈 만큼의 1로 채워진 텐서 반환"
   ]
  },
  {
   "cell_type": "code",
   "execution_count": null,
   "id": "ca5fc35e-7d5e-4aa8-8cf0-8147d5abd456",
   "metadata": {},
   "outputs": [],
   "source": [
    "t2 = torch.zeros(size=(6,))  \n",
    "t2_like = torch.zeros_like(input=t2)\n",
    "print(t2)  \n",
    "print(t2_like) "
   ]
  },
  {
   "cell_type": "markdown",
   "id": "f6a916b3-24df-44ea-8bf6-b9595fd3acd5",
   "metadata": {},
   "source": [
    "torch.zeros(size) => size 만큼 0으로 채워진 텐서 반환<br>\n",
    "torch.zeros_like(input) => input 텐서와 같은 사이즈 만큼의 0로 채워진 텐서 반환"
   ]
  },
  {
   "cell_type": "code",
   "execution_count": null,
   "id": "63342433-e030-4ade-9555-563c87a1dd01",
   "metadata": {},
   "outputs": [],
   "source": [
    "t3 = torch.empty(size=(4,))  \n",
    "t3_like = torch.empty_like(input=t3)\n",
    "print(t3)\n",
    "print(t3_like) "
   ]
  },
  {
   "cell_type": "markdown",
   "id": "4f61bb05-e869-494e-a869-764a2e13165e",
   "metadata": {},
   "source": [
    "torch.empty(size) => 초기화 하지 않고 size 만큼의 텐서 생성, 메모리 절약 및 빠름<br>\n",
    "torch.empty_like(input) =>  input 텐서와 같은 사이즈 만큼의 초기화 되지 않은 텐서 반환"
   ]
  },
  {
   "cell_type": "code",
   "execution_count": null,
   "id": "8b229938-4a93-44df-9dac-6244b97ac8fc",
   "metadata": {},
   "outputs": [],
   "source": [
    "t4 = torch.eye(n=3)\n",
    "print(t4)"
   ]
  },
  {
   "cell_type": "markdown",
   "id": "21646f7b-d0e3-430c-b341-679e7212cd6c",
   "metadata": {},
   "source": [
    "torch.eye(n) => 대각선이 1인, n x n 텐서 반환"
   ]
  },
  {
   "cell_type": "markdown",
   "id": "002a5643-1b5c-4d2e-aebf-ac42345e87aa",
   "metadata": {},
   "source": [
    "## **d_tensor_initialization_random_values.py**"
   ]
  },
  {
   "cell_type": "code",
   "execution_count": null,
   "id": "d7749d84-3bf8-43eb-8da5-a794a930ec89",
   "metadata": {},
   "outputs": [],
   "source": [
    "import torch"
   ]
  },
  {
   "cell_type": "code",
   "execution_count": null,
   "id": "922edc05-e45d-411c-af76-4a415d26bbec",
   "metadata": {
    "scrolled": true
   },
   "outputs": [],
   "source": [
    "import torch\n",
    "\n",
    "t1 = torch.randint(low=10, high=20, size=(1, 2))\n",
    "print(t1)\n",
    "\n",
    "t2 = torch.rand(size=(1, 3))\n",
    "print(t2)\n",
    "\n",
    "t3 = torch.randn(size=(1, 3))\n",
    "print(t3)\n",
    "\n",
    "t4 = torch.normal(mean=10.0, std=1.0, size=(3, 2))\n",
    "print(t4)\n",
    "\n",
    "t5 = torch.linspace(start=0.0, end=5.0, steps=3)\n",
    "print(t5)\n",
    "\n",
    "t6 = torch.arange(5)\n",
    "print(t6)\n",
    "\n",
    "print(\"#\" * 30)"
   ]
  },
  {
   "cell_type": "markdown",
   "id": "acb7da70-6c49-41b7-b006-1cca440ccc88",
   "metadata": {},
   "source": [
    "torch.randint(low, high, size) => size 만큼의 low ~ high 정수형 랜덤값 갖는 텐서 반환<br><br>\n",
    "torch.rand(size) => size 만큼의 0 ~ 1 사이 균등 분포 랜덤 실수 갖는 텐서 반환<br><br>\n",
    "torch.randn(size) => size 만큼의 평균 0, 표준편차 1인 정규 분포 실수 랜덤값 갖는 텐서 반환<br><br>\n",
    "torch.normal(mean, std, size) => 주어진 평균(mean)과 표준 편차(std)를 가지는 정규 분포에서 랜덤한 실수 값을 가지는 텐서를 생성<br><br>\n",
    "torch.linspace(start, end, steps) => start에서 end까지의 구간을 steps 개수만큼 균등하게 나눈 값을 가지는 텐서를 생성<br><br>\n",
    "torch.arange(start = 0, end, step = 1) => start부터 end까지 step 간격으로 값을 가지는 텐서를 생성"
   ]
  },
  {
   "cell_type": "code",
   "execution_count": null,
   "id": "19a020ba-1fdc-43af-8436-55131c220787",
   "metadata": {},
   "outputs": [],
   "source": [
    "torch.manual_seed(1729)\n",
    "random1 = torch.rand(2, 3)\n",
    "print(random1)\n",
    "\n",
    "random2 = torch.rand(2, 3)\n",
    "print(random2)\n",
    "\n",
    "print()\n",
    "\n",
    "torch.manual_seed(1729)\n",
    "random3 = torch.rand(2, 3)\n",
    "print(random3)\n",
    "\n",
    "random4 = torch.rand(2, 3)\n",
    "print(random4)"
   ]
  },
  {
   "cell_type": "markdown",
   "id": "9e25be94-11f4-4a13-821c-e949766e27fc",
   "metadata": {},
   "source": [
    "torch.manual_seed() => 랜덤 생성의 시드 설정 <br> 동일한 시드값을 이용했기떄문에 random1, random2 // random3, random4 값이 같음"
   ]
  },
  {
   "cell_type": "markdown",
   "id": "047fb0fe-9243-4d6c-9363-63209946ca0b",
   "metadata": {},
   "source": [
    "## **e_tensor_type_conversion.py**"
   ]
  },
  {
   "cell_type": "code",
   "execution_count": null,
   "id": "7e5a1787-f11c-4e39-966d-76a5cdae46e7",
   "metadata": {},
   "outputs": [],
   "source": [
    "import torch\n",
    "\n",
    "a = torch.ones((2, 3))\n",
    "print(a.dtype)\n",
    "\n",
    "b = torch.ones((2, 3), dtype=torch.int16)\n",
    "print(b)\n",
    "\n",
    "c = torch.rand((2, 3), dtype=torch.float64) * 20.\n",
    "print(c)\n",
    "\n",
    "d = b.to(torch.int32)\n",
    "print(d)"
   ]
  },
  {
   "cell_type": "markdown",
   "id": "2e19f68b-7ace-4475-a7bc-860e747fb6ca",
   "metadata": {},
   "source": [
    "torch.ones() 텐서 생서 및 초기화(1), 자료형은 float32 <br>\n",
    "인자로 dtype => 자료형 지정<br>\n",
    ".to 로 자료형 변경 가능"
   ]
  },
  {
   "cell_type": "code",
   "execution_count": null,
   "id": "0221f8dc-36b9-4c0e-9d7e-e26d7c066576",
   "metadata": {},
   "outputs": [],
   "source": [
    "double_d = torch.ones(10, 2, dtype=torch.double)\n",
    "short_e = torch.tensor([[1, 2]], dtype=torch.short)\n",
    "\n",
    "double_d = torch.zeros(10, 2).double()\n",
    "short_e = torch.ones(10, 2).short()\n",
    "\n",
    "double_d = torch.zeros(10, 2).to(torch.double)\n",
    "short_e = torch.ones(10, 2).to(dtype=torch.short)\n",
    "\n",
    "double_d = torch.zeros(10, 2).type(torch.double)\n",
    "short_e = torch.ones(10, 2). type(dtype=torch.short)\n",
    "\n",
    "print(double_d.dtype)\n",
    "print(short_e.dtype)"
   ]
  },
  {
   "cell_type": "markdown",
   "id": "fce7c049-440a-4d2c-8ba9-2159aa6c06bd",
   "metadata": {},
   "source": [
    "인자로 dtype = double, .double(), .to(torch.double) 모두 데이터 타입 지정"
   ]
  },
  {
   "cell_type": "code",
   "execution_count": null,
   "id": "eb983176-7c6f-466f-a15d-ca748fc22649",
   "metadata": {},
   "outputs": [],
   "source": [
    "double_f = torch.rand(5, dtype=torch.double)\n",
    "short_g = double_f.to(torch.short)\n",
    "print((double_f * short_g).dtype)"
   ]
  },
  {
   "cell_type": "markdown",
   "id": "846de065-f0b8-444f-b1b5-7ee33f0caa38",
   "metadata": {},
   "source": [
    "double로 변환되어 연산 수행"
   ]
  },
  {
   "cell_type": "markdown",
   "id": "cd6cb60c-79b1-4a88-9c80-6193da732e97",
   "metadata": {},
   "source": [
    "## **f_tensor_operations.py**"
   ]
  },
  {
   "cell_type": "code",
   "execution_count": null,
   "id": "0be22de3-3698-44bf-8ef2-b36bed0789d1",
   "metadata": {},
   "outputs": [],
   "source": [
    "import torch\n",
    "\n",
    "t1 = torch.ones(size=(2, 3))\n",
    "t2 = torch.ones(size=(2, 3))\n",
    "t3 = torch.add(t1, t2)\n",
    "t4 = t1 + t2\n",
    "print(t3)\n",
    "print(t4)\n",
    "\n",
    "print(\"#\" * 30)"
   ]
  },
  {
   "cell_type": "markdown",
   "id": "26defb17-dd80-4262-ab98-f495903ca085",
   "metadata": {},
   "source": [
    "요소별 덧셈 / .add(), + 결과 같음"
   ]
  },
  {
   "cell_type": "code",
   "execution_count": null,
   "id": "f980c949-d464-49be-b516-de421f06fa3d",
   "metadata": {},
   "outputs": [],
   "source": [
    "t5 = torch.sub(t1, t2)\n",
    "t6 = t1 - t2\n",
    "print(t5)\n",
    "print(t6)\n",
    "\n",
    "print(\"#\" * 30)"
   ]
  },
  {
   "cell_type": "markdown",
   "id": "44e00d66-3b19-4c6e-b71b-5e076e926fc7",
   "metadata": {},
   "source": [
    "요소별 덧셈 / .sub(t1, t2), t1 - t2  결과 같음"
   ]
  },
  {
   "cell_type": "code",
   "execution_count": null,
   "id": "4b9da2f3-6c17-4cc7-bb2e-7f093d14edd4",
   "metadata": {},
   "outputs": [],
   "source": [
    "t7 = torch.mul(t1, t2)\n",
    "t8 = t1 * t2\n",
    "print(t7)\n",
    "print(t8)\n",
    "\n",
    "print(\"#\" * 30)"
   ]
  },
  {
   "cell_type": "markdown",
   "id": "3815e83e-dd24-4d33-84b1-aabeac1d046c",
   "metadata": {},
   "source": [
    "요소별 곱셈 / .mul(t1, t2), t1 * t2 결과 같음"
   ]
  },
  {
   "cell_type": "code",
   "execution_count": null,
   "id": "668c1101-779d-4493-a226-b94a09f455ea",
   "metadata": {},
   "outputs": [],
   "source": [
    "t9 = torch.div(t1, t2)\n",
    "t10 = t1 / t2\n",
    "print(t9)\n",
    "print(t10)"
   ]
  },
  {
   "cell_type": "markdown",
   "id": "21ecff18-1093-49d4-bde8-c60e955c54d4",
   "metadata": {},
   "source": [
    "요소별 곱셈 / .div(t1, t2), t1 / t2 결과 같음"
   ]
  },
  {
   "cell_type": "markdown",
   "id": "e1b2bf35-1075-4162-8f2d-24f9b2252742",
   "metadata": {},
   "source": [
    "torch.add(), torch.sub(), torch.mul(), torch.div() 함수와 각각의 연산자(+, -, *, /) 간 결과 같음"
   ]
  },
  {
   "cell_type": "markdown",
   "id": "03478d3f-8d04-4b35-86f6-0909e320cc61",
   "metadata": {},
   "source": [
    "## **g_tensor_operations_mm.py**"
   ]
  },
  {
   "cell_type": "code",
   "execution_count": null,
   "id": "ac162546-45d7-4d7d-9257-487500e0c6fc",
   "metadata": {},
   "outputs": [],
   "source": [
    "import torch\n",
    "\n",
    "t1 = torch.dot(\n",
    "  torch.tensor([2, 3]), torch.tensor([2, 1])\n",
    ")\n",
    "print(t1, t1.size())"
   ]
  },
  {
   "cell_type": "markdown",
   "id": "5da54bed-d791-45f8-88d9-64d7a1e3e660",
   "metadata": {},
   "source": [
    ".dot(input, other) => 내적 계산, 대응하는 요소끼리 곱한 값들의 합<br|>\n",
    "[2, 3]과 [2, 1]의 내적은 (2 * 2) + (3 * 1)로 계산되어 7"
   ]
  },
  {
   "cell_type": "code",
   "execution_count": null,
   "id": "7bdd6355-85de-4743-ab88-91c219cd64cf",
   "metadata": {},
   "outputs": [],
   "source": [
    "t2 = torch.randn(2, 3)\n",
    "t3 = torch.randn(3, 2)\n",
    "t4 = torch.mm(t2, t3)\n",
    "print(t4, t4.size())"
   ]
  },
  {
   "cell_type": "markdown",
   "id": "d5f4553d-a10d-4dff-ae89-a2f893a541d4",
   "metadata": {},
   "source": [
    ".mm(input, other) => 행렬 곱셈"
   ]
  },
  {
   "cell_type": "code",
   "execution_count": null,
   "id": "089b809e-f5a3-4ef5-a101-5b9d45da8462",
   "metadata": {},
   "outputs": [],
   "source": [
    "t5 = torch.randn(10, 3, 4)\n",
    "t6 = torch.randn(10, 4, 5)\n",
    "t7 = torch.bmm(t5, t6)\n",
    "print(t7.size())"
   ]
  },
  {
   "cell_type": "markdown",
   "id": "b1c53641-1a39-4d87-860c-e22dc5b32ce4",
   "metadata": {},
   "source": [
    ".bmm(input, other) => 배치 행렬 곱셈 / 배치 -> 제일 처음 차원, 배치는 살려두고 연산"
   ]
  },
  {
   "cell_type": "markdown",
   "id": "0335b203-74a2-45b3-ab43-44339989e994",
   "metadata": {},
   "source": [
    "## **h_tensor_operations_matmul.py** <br> "
   ]
  },
  {
   "cell_type": "code",
   "execution_count": null,
   "id": "98a011df-e56b-4c91-89e9-a665be8edc25",
   "metadata": {},
   "outputs": [],
   "source": [
    "import torch\n",
    "\n",
    "t1 = torch.randn(3)\n",
    "t2 = torch.randn(3)\n",
    "print(torch.matmul(t1, t2).size())  # torch.Size([])"
   ]
  },
  {
   "cell_type": "markdown",
   "id": "343f6d6f-3582-40c8-98ce-bc0dd218c619",
   "metadata": {},
   "source": [
    "dot product 수행"
   ]
  },
  {
   "cell_type": "code",
   "execution_count": null,
   "id": "f46e2015-d586-444b-8637-c48a6cb3eff4",
   "metadata": {},
   "outputs": [],
   "source": [
    "t3 = torch.randn(3, 4)\n",
    "t4 = torch.randn(4)\n",
    "print(torch.matmul(t3, t4).size())  # torch.Size([3])"
   ]
  },
  {
   "cell_type": "code",
   "execution_count": null,
   "id": "3f48f763-64a0-4c02-9dac-11d4062a7a31",
   "metadata": {},
   "outputs": [],
   "source": [
    "t5 = torch.randn(10, 3, 4)\n",
    "t6 = torch.randn(4)\n",
    "print(torch.matmul(t5, t6).size())  # torch.Size([10, 3])"
   ]
  },
  {
   "cell_type": "code",
   "execution_count": null,
   "id": "6b093e8b-597b-4fe8-85fb-8154de9318ec",
   "metadata": {},
   "outputs": [],
   "source": [
    "t7 = torch.randn(10, 3, 4)\n",
    "t8 = torch.randn(10, 4, 5)\n",
    "print(torch.matmul(t7, t8).size())  # torch.Size([10, 3, 5])"
   ]
  },
  {
   "cell_type": "code",
   "execution_count": null,
   "id": "8fa76f38-831d-4230-8f9d-ba0a30765eec",
   "metadata": {},
   "outputs": [],
   "source": [
    "t9 = torch.randn(10, 3, 4)\n",
    "t10 = torch.randn(4, 5)\n",
    "print(torch.matmul(t9, t10).size())  # torch.Size([10, 3, 5])  설명"
   ]
  },
  {
   "cell_type": "markdown",
   "id": "b5d005a4-428d-4565-9bc6-54a417a83b2c",
   "metadata": {},
   "source": [
    "**torch.matmul() => 입력 텐서의 차원에 따라 dot, mm, bmm 수행**"
   ]
  },
  {
   "cell_type": "markdown",
   "id": "ada5217b-ad79-433b-babc-fdd3fdd4380e",
   "metadata": {},
   "source": [
    "## **i_tensor_broadcasting.py**"
   ]
  },
  {
   "cell_type": "code",
   "execution_count": null,
   "id": "a1dfdd74-c8ab-4e0a-aad9-d0df0e18b40d",
   "metadata": {},
   "outputs": [],
   "source": [
    "t1 = torch.tensor([1.0, 2.0, 3.0])\n",
    "t2 = 2.0\n",
    "print(t1 * t2)\n",
    "\n",
    "print(\"#\" * 50, 1)"
   ]
  },
  {
   "cell_type": "markdown",
   "id": "b2b0add4-3b44-41cf-8a11-241fffddee11",
   "metadata": {},
   "source": [
    "텐서의 각 요소에 스칼라(t2) 곱해짐"
   ]
  },
  {
   "cell_type": "code",
   "execution_count": null,
   "id": "44eda8fa-e408-46af-a626-a2b479145f26",
   "metadata": {},
   "outputs": [],
   "source": [
    "t3 = torch.tensor([[0, 1], [2, 4], [10, 10]])\n",
    "t4 = torch.tensor([4, 5])\n",
    "print(t3 - t4)\n",
    "\n",
    "print(\"#\" * 50, 2)"
   ]
  },
  {
   "cell_type": "markdown",
   "id": "e6c2e441-b9c3-47be-8eb8-f935260a0c40",
   "metadata": {},
   "source": [
    "브로드캐스팅 되어 연산 수행, 큰쪽으로 맞춰짐"
   ]
  },
  {
   "cell_type": "code",
   "execution_count": null,
   "id": "6cef8843-9fb0-428b-8328-cfbd242036a4",
   "metadata": {},
   "outputs": [],
   "source": [
    "t5 = torch.tensor([[1., 2.], [3., 4.]])\n",
    "print(t5 + 2.0) \n",
    "print(t5 - 2.0)  \n",
    "print(t5 * 2.0) \n",
    "print(t5 / 2.0)  \n",
    "\n",
    "print(\"#\" * 50, 3)"
   ]
  },
  {
   "cell_type": "code",
   "execution_count": null,
   "id": "8cfead7f-ef7a-4aee-aec2-4a644f126d06",
   "metadata": {},
   "outputs": [],
   "source": [
    "def normalize(x):\n",
    "    return x / 255\n",
    "t6 = torch.randn(3, 28, 28)\n",
    "print(normalize(t6).size())\n",
    "\n",
    "print(\"#\" * 50, 4)"
   ]
  },
  {
   "cell_type": "markdown",
   "id": "33000ed6-bf14-4e78-b83b-b4708d39a716",
   "metadata": {},
   "source": [
    "```python\n",
    "def normalize(x):\n",
    "    return x / 255\n",
    "```\n",
    "0과 255 사이에 있던 데이터들이 0과 1사이로 맞춰짐 브로드캐스팅 통해 연산"
   ]
  },
  {
   "cell_type": "code",
   "execution_count": null,
   "id": "9c565bb8-707b-4d26-b05a-3e46466bf217",
   "metadata": {},
   "outputs": [],
   "source": [
    "t7 = torch.tensor([[1, 2], [0, 3]])  # torch.Size([2, 2])\n",
    "t8 = torch.tensor([[3, 1]])  # torch.Size([1, 2])\n",
    "t9 = torch.tensor([[5], [2]])  # torch.Size([2, 1])\n",
    "t10 = torch.tensor([7])  # torch.Size([1])\n",
    "\n",
    "print(t7 + t8)  \n",
    "print(t7 + t9)   \n",
    "print(t8 + t9)   \n",
    "print(t7 + t10)\n",
    "\n",
    "print(\"#\" * 50, 5)"
   ]
  },
  {
   "cell_type": "markdown",
   "id": "e090c5be-1053-43c1-93d6-2fcd65a44f6c",
   "metadata": {},
   "source": [
    "브로드캐스팅에 따라 연산이 이루어짐(큰쪽에 맞춰짐)"
   ]
  },
  {
   "cell_type": "code",
   "execution_count": null,
   "id": "08b6bb98-fe93-4961-abd9-332840283aeb",
   "metadata": {},
   "outputs": [],
   "source": [
    "t11 = torch.ones(4, 3, 2)\n",
    "t12 = t11 * torch.rand(3, 2)  # 차원 없으면 생성, 순서는 마지막 부터 처음으로\n",
    "print(t12.shape)\n",
    "\n",
    "t13 = torch.ones(4, 3, 2)\n",
    "t14 = t13 * torch.rand(3, 1) \n",
    "print(t14.shape)\n",
    "\n",
    "t15 = torch.ones(4, 3, 2)\n",
    "t16 = t15 * torch.rand(1, 2)  \n",
    "print(t16.shape)\n",
    "\n",
    "t17 = torch.ones(5, 3, 4, 1)\n",
    "t18 = torch.rand(3, 1, 1)  \n",
    "print((t17 + t18).size())\n",
    "\n",
    "print(\"#\" * 50, 6)"
   ]
  },
  {
   "cell_type": "markdown",
   "id": "8f4aa607-791f-47e1-b98b-386e56ac191e",
   "metadata": {},
   "source": [
    "차원 없으면 생성 / 1이 큰 쪽에 맞춰짐"
   ]
  },
  {
   "cell_type": "code",
   "execution_count": null,
   "id": "91c29b41-1fe0-4624-95de-5fdc75ba3112",
   "metadata": {},
   "outputs": [],
   "source": [
    "t19 = torch.empty(5, 1, 4, 1)\n",
    "t20 = torch.empty(3, 1, 1)\n",
    "print((t19 + t20).size())  # torch.Size([5, 3, 4, 1])\n",
    "\n",
    "t21 = torch.empty(1)\n",
    "t22 = torch.empty(3, 1, 7)\n",
    "print((t21 + t22).size())  # torch.Size([3, 1, 7])\n",
    "\n",
    "t23 = torch.ones(3, 3, 3)\n",
    "t24 = torch.ones(3, 1, 3)\n",
    "print((t23 + t24).size())  # torch.Size([3, 3, 3])"
   ]
  },
  {
   "cell_type": "markdown",
   "id": "62812ea5-a7da-4970-804f-00fe1b3442cf",
   "metadata": {},
   "source": [
    "위와 마찬가지"
   ]
  },
  {
   "cell_type": "code",
   "execution_count": null,
   "id": "8eb8a420-b4b2-4b67-8e08-6df928ce7426",
   "metadata": {},
   "outputs": [],
   "source": [
    "t25 = torch.empty(5, 2, 4, 1)\n",
    "t26 = torch.empty(3, 1, 1)\n",
    "print((t25 + t26).size())\n",
    "# RuntimeError: The size of tensor a (2) must match\n",
    "# the size of tensor b (3) at non-singleton dimension 1"
   ]
  },
  {
   "cell_type": "markdown",
   "id": "a917ee1f-829f-4fab-9009-9c4dc5a867d2",
   "metadata": {},
   "source": [
    "t26 일치하지 않는 차원 중 하나가 1이 아니라 오류"
   ]
  },
  {
   "cell_type": "code",
   "execution_count": null,
   "id": "a653cedf-9741-4d77-b022-f2bdd0ea6050",
   "metadata": {},
   "outputs": [],
   "source": [
    "print(\"#\" * 50, 7)"
   ]
  },
  {
   "cell_type": "code",
   "execution_count": null,
   "id": "3831a034-5032-4d7c-b9a7-2bb6e725d9a9",
   "metadata": {},
   "outputs": [],
   "source": [
    "t27 = torch.ones(4) * 5\n",
    "print(t27)  \n",
    "\n",
    "t28 = torch.pow(t27, 2) # 제곱\n",
    "print(t28) \n",
    "\n",
    "exp = torch.arange(1., 5.)  # tensor([ 1.,  2.,  3.,  4.])\n",
    "a = torch.arange(1., 5.)  # tensor([ 1.,  2.,  3.,  4.])\n",
    "t29 = torch.pow(a, exp) # shape이 맞는걸 넣음\n",
    "print(t29) \n"
   ]
  },
  {
   "cell_type": "markdown",
   "id": "83f144ba-dc9c-4914-81db-7f247862aaa9",
   "metadata": {},
   "source": [
    "## **j_tensor_indexing_slicing.py**"
   ]
  },
  {
   "cell_type": "code",
   "execution_count": null,
   "id": "c0cddbd4-edbf-4bf4-9a59-067cb23991ed",
   "metadata": {},
   "outputs": [],
   "source": [
    "import torch\n",
    "\n",
    "x = torch.tensor(\n",
    "  [[0, 1, 2, 3, 4],\n",
    "   [5, 6, 7, 8, 9],\n",
    "   [10, 11, 12, 13, 14]]\n",
    ")\n",
    "\n",
    "print(x[1])  # >>> tensor([5, 6, 7, 8, 9])\n",
    "print(x[:, 1])  # >>> tensor([1, 6, 11])\n",
    "print(x[1, 2])  # >>> tensor(7)\n",
    "print(x[:, -1])  # >>> tensor([4, 9, 14)\n",
    "\n",
    "print(\"#\" * 50, 1)"
   ]
  },
  {
   "cell_type": "markdown",
   "id": "d2b692f7-1ef2-40ec-aa15-d902a3fb8c86",
   "metadata": {},
   "source": [
    ": => 전체"
   ]
  },
  {
   "cell_type": "code",
   "execution_count": null,
   "id": "0df3a15c-0d11-4c5f-b81c-cdde6a070de9",
   "metadata": {},
   "outputs": [],
   "source": [
    "print(x[1:])  # >>> tensor([[ 5,  6,  7,  8,  9], [10, 11, 12, 13, 14]])\n",
    "print(x[1:, 3:])  # >>> tensor([[ 8,  9], [13, 14]])\n",
    "\n",
    "print(\"#\" * 50, 2)"
   ]
  },
  {
   "cell_type": "code",
   "execution_count": null,
   "id": "705e6148-9076-47b1-81e2-8cca06ee5d16",
   "metadata": {},
   "outputs": [],
   "source": [
    "y = torch.zeros((6, 6))\n",
    "y[1:4, 2] = 1\n",
    "print(y)\n",
    "\n",
    "print(y[1:4, 1:4])\n",
    "\n",
    "print(\"#\" * 50, 3)"
   ]
  },
  {
   "cell_type": "code",
   "execution_count": null,
   "id": "fa0897f5-fbe3-445b-9a11-e6492dc6e331",
   "metadata": {},
   "outputs": [],
   "source": [
    "z = torch.tensor(\n",
    "  [[1, 2, 3, 4],\n",
    "   [2, 3, 4, 5],\n",
    "   [5, 6, 7, 8]]\n",
    ")\n",
    "print(z[:2])\n",
    "print(z[1:, 1:3])\n",
    "print(z[:, 1:])\n",
    "\n",
    "z[1:, 1:3] = 0\n",
    "print(z)"
   ]
  },
  {
   "cell_type": "markdown",
   "id": "58f2b37b-845b-4a9a-9bb7-633cb2a37576",
   "metadata": {},
   "source": [
    "**파이썬 인덱싱과 슬라이싱과 비슷, 크게 다르지 않음**"
   ]
  },
  {
   "cell_type": "markdown",
   "id": "cb21c272-483f-48af-936e-1e60f1610b40",
   "metadata": {},
   "source": [
    "## **k_tensor_reshaping.py**"
   ]
  },
  {
   "cell_type": "markdown",
   "id": "53687047-3075-48db-9e43-7a82b487eb0e",
   "metadata": {},
   "source": [
    "**텐서 shape을 바꿈**"
   ]
  },
  {
   "cell_type": "code",
   "execution_count": null,
   "id": "e3181276-33a8-4b31-9933-ec4199ec4e3c",
   "metadata": {},
   "outputs": [],
   "source": [
    "import torch\n",
    "\n",
    "t1 = torch.tensor([[1, 2, 3], [4, 5, 6]])\n",
    "t2 = t1.view(3, 2) \n",
    "t3 = t1.reshape(1, 6) \n",
    "print(t2)\n",
    "print(t3)\n",
    "\n",
    "t4 = torch.arange(8).view(2, 4) \n",
    "t5 = torch.arange(6).view(2, 3) \n",
    "print(t4)\n",
    "print(t5)\n",
    "\n",
    "print(\"#\" * 50, 1)"
   ]
  },
  {
   "cell_type": "markdown",
   "id": "765b125f-b06c-4edd-9e39-1bfa75ac2d06",
   "metadata": {},
   "source": [
    "torch.view(input, *shape), torch.reshape(input, *shape)<br>\n",
    "데이터를 건들지 않고 텐서의 shape만 바꿈"
   ]
  },
  {
   "cell_type": "markdown",
   "id": "e2458703-5595-4770-860a-7ad9c4d309d9",
   "metadata": {},
   "source": [
    "view 연속적인 텐서 shape 변경, 참조<br>\n",
    "reshape 연속적이지 않아도 shaep 변경, 복사"
   ]
  },
  {
   "cell_type": "markdown",
   "id": "3a747a9a-0dc9-494d-b82e-e028c5189d54",
   "metadata": {},
   "source": [
    "torch.arange().view() => 다차원 텐서 생성 가능"
   ]
  },
  {
   "cell_type": "code",
   "execution_count": null,
   "id": "22cf64e8-3220-482c-89a6-7610fc13944f",
   "metadata": {},
   "outputs": [],
   "source": [
    "# Original tensor with shape (1, 3, 1)\n",
    "t6 = torch.tensor([[[1], [2], [3]]])\n",
    "\n",
    "# Remove all dimensions of size 1\n",
    "t7 = t6.squeeze()  # Shape becomes (3,)\n",
    "\n",
    "# Remove dimension at position 0\n",
    "t8 = t6.squeeze(0)  # Shape becomes (3, 1)\n",
    "print(t7)\n",
    "print(t8)\n",
    "\n",
    "print(\"#\" * 50, 2)"
   ]
  },
  {
   "cell_type": "markdown",
   "id": "1858a1e3-ab39-488e-9fc0-7893c5dbcab3",
   "metadata": {},
   "source": [
    "tensor.squeeze() 크기가 1인 모든 차원 제거, tensor.squeeze(0) 0번째 차원만 제거"
   ]
  },
  {
   "cell_type": "code",
   "execution_count": 17,
   "id": "663a2136-f195-4eeb-ac57-35ff470e487b",
   "metadata": {},
   "outputs": [
    {
     "name": "stdout",
     "output_type": "stream",
     "text": [
      "tensor([[1],\n",
      "        [2],\n",
      "        [3]])\n",
      "tensor([[[1, 2, 3]],\n",
      "\n",
      "        [[4, 5, 6]]]) torch.Size([2, 1, 3])\n",
      "################################################## 3\n"
     ]
    }
   ],
   "source": [
    "# Original tensor with shape (3,)\n",
    "t9 = torch.tensor([1, 2, 3])\n",
    "\n",
    "# Add a new dimension at position 1\n",
    "t10 = t9.unsqueeze(1)  # Shape becomes (3, 1)\n",
    "print(t10)\n",
    "\n",
    "t11 = torch.tensor(\n",
    "  [[1, 2, 3],\n",
    "   [4, 5, 6]]\n",
    ")\n",
    "t12 = t11.unsqueeze(1)  # Shape becomes (2, 1, 3)\n",
    "print(t12, t12.shape)\n",
    "\n",
    "print(\"#\" * 50, 3)"
   ]
  },
  {
   "cell_type": "markdown",
   "id": "e6abc3ad-7d13-4d47-bf9a-9b6126daee65",
   "metadata": {},
   "source": [
    "tensor.unsqueeze(1)은 1번 차원에 새 차원을 추가\n"
   ]
  },
  {
   "cell_type": "code",
   "execution_count": 18,
   "id": "e7df2ec5-24c1-4c76-b633-57f35195661a",
   "metadata": {},
   "outputs": [
    {
     "name": "stdout",
     "output_type": "stream",
     "text": [
      "tensor([1, 2, 3, 4, 5, 6])\n",
      "tensor([1, 2, 3, 4, 5, 6, 7, 8])\n",
      "tensor([[1, 2, 3, 4],\n",
      "        [5, 6, 7, 8]])\n",
      "################################################## 4\n"
     ]
    }
   ],
   "source": [
    "# Original tensor with shape (2, 3)\n",
    "t13 = torch.tensor([[1, 2, 3], [4, 5, 6]])\n",
    "\n",
    "# Flatten the tensor\n",
    "t14 = t13.flatten()  # Shape becomes (6,)\n",
    "\n",
    "print(t14)\n",
    "\n",
    "# Original tensor with shape (2, 2, 2)\n",
    "t15 = torch.tensor([[[1, 2],\n",
    "                     [3, 4]],\n",
    "                    [[5, 6],\n",
    "                     [7, 8]]])\n",
    "t16 = torch.flatten(t15)\n",
    "\n",
    "t17 = torch.flatten(t15, start_dim=1)\n",
    "\n",
    "print(t16)\n",
    "print(t17)\n",
    "\n",
    "print(\"#\" * 50, 4)"
   ]
  },
  {
   "cell_type": "markdown",
   "id": "3f9d6564-1d2f-4188-bc30-ac9059148c93",
   "metadata": {},
   "source": [
    "`tensor.flatten()` 다차원 array를 1차원 array로 변환<br>\n",
    "t17 = `torch.flatten(t15, start_dim=1)` => 특정 차원을 정한다면 특정 차원은 남아있게됨"
   ]
  },
  {
   "cell_type": "code",
   "execution_count": 19,
   "id": "258ac91a-453e-4866-a3a0-1c8020b4fb76",
   "metadata": {},
   "outputs": [
    {
     "name": "stdout",
     "output_type": "stream",
     "text": [
      "torch.Size([2, 3, 5])\n",
      "torch.Size([5, 2, 3])\n",
      "tensor([[1, 2, 3],\n",
      "        [4, 5, 6]])\n",
      "tensor([[1, 4],\n",
      "        [2, 5],\n",
      "        [3, 6]])\n",
      "tensor([[1, 4],\n",
      "        [2, 5],\n",
      "        [3, 6]])\n",
      "tensor([[1, 4],\n",
      "        [2, 5],\n",
      "        [3, 6]])\n"
     ]
    }
   ],
   "source": [
    "t18 = torch.randn(2, 3, 5)\n",
    "print(t18.shape)  # >>> torch.Size([2, 3, 5])\n",
    "print(torch.permute(t18, (2, 0, 1)).size())  # >|>> torch.Size([5, 2, 3])\n",
    "\n",
    "# Original tensor with shape (2, 3)\n",
    "t19 = torch.tensor([[1, 2, 3], [4, 5, 6]])\n",
    "\n",
    "# Permute the dimensions\n",
    "t20 = torch.permute(t19, dims=(0, 1))  # Shape becomes (2, 3) still\n",
    "t21 = torch.permute(t19, dims=(1, 0))  # Shape becomes (3, 2)\n",
    "print(t20)\n",
    "print(t21)\n",
    "\n",
    "# Transpose the tensor\n",
    "t22 = torch.transpose(t19, 0, 1)  # Shape becomes (3, 2)\n",
    "\n",
    "print(t22)\n",
    "\n",
    "t23 = torch.t(t19)  # Shape becomes (3, 2)\n",
    "\n",
    "print(t23)"
   ]
  },
  {
   "cell_type": "markdown",
   "id": "17b34b72-ad76-4bab-ba31-c54091798166",
   "metadata": {},
   "source": [
    "torch.permute() 차원은 유지하고 차원의 순서를 바꿈"
   ]
  },
  {
   "cell_type": "markdown",
   "id": "501fcdc9-c276-40e3-ac6b-addf4443fb74",
   "metadata": {},
   "source": [
    "\n",
    "torch.transpose() 두 개의 차원 지정해서 두개의 차원 순서 변경"
   ]
  },
  {
   "cell_type": "markdown",
   "id": "0291d70c-c6af-4b48-b83f-88b8332d935b",
   "metadata": {},
   "source": [
    "## **l_tensor_concat.py**"
   ]
  },
  {
   "cell_type": "code",
   "execution_count": 20,
   "id": "ba38b3f6-1265-43b8-92e3-88d46eddda4a",
   "metadata": {},
   "outputs": [
    {
     "name": "stdout",
     "output_type": "stream",
     "text": [
      "torch.Size([2, 6, 3])\n",
      "################################################## 1\n"
     ]
    }
   ],
   "source": [
    "import torch\n",
    "\n",
    "t1 = torch.zeros([2, 1, 3])\n",
    "t2 = torch.zeros([2, 3, 3])\n",
    "t3 = torch.zeros([2, 2, 3])\n",
    "\n",
    "t4 = torch.cat([t1, t2, t3], dim=1)\n",
    "print(t4.shape)\n",
    "\n",
    "print(\"#\" * 50, 1)"
   ]
  },
  {
   "cell_type": "markdown",
   "id": "c0aa41db-7a77-4964-bfac-08de9993d948",
   "metadata": {},
   "source": [
    "`torch.cat` 텐서들을 지정된 차원 따라 연결하여 새로운 텐서 생성"
   ]
  },
  {
   "cell_type": "code",
   "execution_count": 21,
   "id": "81e49213-e885-4aaa-ace1-c3ef6b41ce3f",
   "metadata": {},
   "outputs": [
    {
     "name": "stdout",
     "output_type": "stream",
     "text": [
      "torch.Size([8])\n",
      "tensor([0, 1, 2, 3, 4, 5, 6, 7])\n",
      "################################################## 2\n"
     ]
    }
   ],
   "source": [
    "t5 = torch.arange(0, 3)  # tensor([0, 1, 2])\n",
    "t6 = torch.arange(3, 8)  # tensor([3, 4, 5, 6, 7])\n",
    "\n",
    "t7 = torch.cat((t5, t6), dim=0)\n",
    "print(t7.shape)  # >>> torch.Size([8])\n",
    "print(t7)  # >>> tensor([0, 1, 2, 3, 4, 5, 6, 7])\n",
    "\n",
    "print(\"#\" * 50, 2)"
   ]
  },
  {
   "cell_type": "markdown",
   "id": "7ca566d7-ec6c-4991-a26f-927326ff4a03",
   "metadata": {},
   "source": [
    "1차원 텐서 t5와 t6을 dim=0 차원 따라 연결, 요소 8개 가진 1차원 텐서 t7 생성"
   ]
  },
  {
   "cell_type": "code",
   "execution_count": 22,
   "id": "58cfdc02-6ebb-495d-a4c3-5471b5202271",
   "metadata": {},
   "outputs": [
    {
     "name": "stdout",
     "output_type": "stream",
     "text": [
      "torch.Size([4, 3])\n",
      "tensor([[ 0,  1,  2],\n",
      "        [ 3,  4,  5],\n",
      "        [ 6,  7,  8],\n",
      "        [ 9, 10, 11]])\n",
      "torch.Size([2, 6])\n",
      "tensor([[ 0,  1,  2,  6,  7,  8],\n",
      "        [ 3,  4,  5,  9, 10, 11]])\n",
      "################################################## 3\n"
     ]
    }
   ],
   "source": [
    "t8 = torch.arange(0, 6).reshape(2, 3)  # torch.Size([2, 3])\n",
    "t9 = torch.arange(6, 12).reshape(2, 3)  # torch.Size([2, 3])\n",
    "\n",
    "# 2차원 텐서간 병합\n",
    "t10 = torch.cat((t8, t9), dim=0)\n",
    "print(t10.size())  # >>> torch.Size([4, 3])\n",
    "print(t10)\n",
    "\n",
    "t11 = torch.cat((t8, t9), dim=1)\n",
    "print(t11.size())  # >>>torch.Size([2, 6])\n",
    "print(t11)\n",
    "\n",
    "print(\"#\" * 50, 3)"
   ]
  },
  {
   "cell_type": "markdown",
   "id": "db93dda2-4472-4ede-be60-6b954e1a85c2",
   "metadata": {},
   "source": [
    "2차원 텐서 t8과 t9를 dim=0 / dim=1 차원 따라 연결하여, [4, 3] 크기의 t10,  [2, 6] 크기의 t11 텐서 생성"
   ]
  },
  {
   "cell_type": "code",
   "execution_count": 23,
   "id": "e5800054-595a-4cef-84e3-ed5490014dc5",
   "metadata": {},
   "outputs": [
    {
     "name": "stdout",
     "output_type": "stream",
     "text": [
      "torch.Size([6, 3])\n",
      "tensor([[ 0,  1,  2],\n",
      "        [ 3,  4,  5],\n",
      "        [ 6,  7,  8],\n",
      "        [ 9, 10, 11],\n",
      "        [12, 13, 14],\n",
      "        [15, 16, 17]])\n",
      "torch.Size([2, 9])\n",
      "tensor([[ 0,  1,  2,  6,  7,  8, 12, 13, 14],\n",
      "        [ 3,  4,  5,  9, 10, 11, 15, 16, 17]])\n",
      "################################################## 4\n"
     ]
    }
   ],
   "source": [
    "t12 = torch.arange(0, 6).reshape(2, 3)  # torch.Size([2, 3])\n",
    "t13 = torch.arange(6, 12).reshape(2, 3)  # torch.Size([2, 3])\n",
    "t14 = torch.arange(12, 18).reshape(2, 3)  # torch.Size([2, 3])\n",
    "\n",
    "t15 = torch.cat((t12, t13, t14), dim=0)\n",
    "print(t15.size())  # >>> torch.Size([6, 3])\n",
    "print(t15)\n",
    "\n",
    "t16 = torch.cat((t12, t13, t14), dim=1)\n",
    "print(t16.size())  # >>> torch.Size([2, 9])\n",
    "print(t16)\n",
    "\n",
    "print(\"#\" * 50, 4)"
   ]
  },
  {
   "cell_type": "markdown",
   "id": "61f81823-60a9-4185-ad3d-0ad65eb4899f",
   "metadata": {},
   "source": [
    "세 개의 2차원 텐서(t12, t13, t14)를 dim=0으로 연결하여 [6, 3] 크기의 t15, dim=1로 연결하여 [2, 9] 크기의 t16 생성"
   ]
  },
  {
   "cell_type": "code",
   "execution_count": 24,
   "id": "259f1192-4ddb-4cce-b1bd-89af3710a886",
   "metadata": {},
   "outputs": [
    {
     "name": "stdout",
     "output_type": "stream",
     "text": [
      "torch.Size([2, 2, 3])\n",
      "tensor([[[ 0,  1,  2],\n",
      "         [ 3,  4,  5]],\n",
      "\n",
      "        [[ 6,  7,  8],\n",
      "         [ 9, 10, 11]]])\n",
      "torch.Size([1, 4, 3])\n",
      "tensor([[[ 0,  1,  2],\n",
      "         [ 3,  4,  5],\n",
      "         [ 6,  7,  8],\n",
      "         [ 9, 10, 11]]])\n",
      "torch.Size([1, 2, 6])\n",
      "tensor([[[ 0,  1,  2,  6,  7,  8],\n",
      "         [ 3,  4,  5,  9, 10, 11]]])\n"
     ]
    }
   ],
   "source": [
    "t17 = torch.arange(0, 6).reshape(1, 2, 3)  # torch.Size([1, 2, 3])\n",
    "t18 = torch.arange(6, 12).reshape(1, 2, 3)  # torch.Size([1, 2, 3])\n",
    "\n",
    "t19 = torch.cat((t17, t18), dim=0)\n",
    "print(t19.size())  # >>> torch.Size([2, 2, 3])\n",
    "print(t19)\n",
    "\n",
    "t20 = torch.cat((t17, t18), dim=1)\n",
    "print(t20.size())  # >>> torch.Size([1, 4, 3])\n",
    "print(t20)\n",
    "\n",
    "t21 = torch.cat((t17, t18), dim=2)\n",
    "print(t21.size())  # >>> torch.Size([1, 2, 6])\n",
    "print(t21)"
   ]
  },
  {
   "cell_type": "markdown",
   "id": "8a4d801b-8e0e-463b-9460-238ce4cef1b7",
   "metadata": {},
   "source": [
    "마찬가지로 주어진 차원 따라 연결해 새로운 텐서 생성"
   ]
  },
  {
   "cell_type": "markdown",
   "id": "92dd1d2c-eb48-4de6-b8dd-a031d57641a7",
   "metadata": {},
   "source": [
    "## **m_tensor_stacking.py**"
   ]
  },
  {
   "cell_type": "code",
   "execution_count": 25,
   "id": "9172d889-18ec-4536-8229-278c0c6cd727",
   "metadata": {},
   "outputs": [
    {
     "name": "stdout",
     "output_type": "stream",
     "text": [
      "torch.Size([2, 2, 3]) True\n",
      "torch.Size([2, 2, 3]) True\n",
      "torch.Size([2, 3, 2]) True\n",
      "################################################## 1\n"
     ]
    }
   ],
   "source": [
    "import torch\n",
    "\n",
    "t1 = torch.tensor([[1, 2, 3], [4, 5, 6]])\n",
    "t2 = torch.tensor([[7, 8, 9], [10, 11, 12]])\n",
    "\n",
    "t3 = torch.stack([t1, t2], dim=0)\n",
    "t4 = torch.cat([t1.unsqueeze(dim=0), t2.unsqueeze(dim=0)], dim=0)\n",
    "print(t3.shape, t3.equal(t4))\n",
    "\n",
    "t5 = torch.stack([t1, t2], dim=1)\n",
    "t6 = torch.cat([t1.unsqueeze(dim=1), t2.unsqueeze(dim=1)], dim=1)\n",
    "print(t5.shape, t5.equal(t6))\n",
    "\n",
    "t7 = torch.stack([t1, t2], dim=2)\n",
    "t8 = torch.cat([t1.unsqueeze(dim=2), t2.unsqueeze(dim=2)], dim=2)\n",
    "print(t7.shape, t7.equal(t8))\n",
    "\n",
    "print(\"#\" * 50, 1)"
   ]
  },
  {
   "cell_type": "markdown",
   "id": "5773c7ac-7844-4d59-a62a-f6e0f4c9fa1d",
   "metadata": {},
   "source": [
    "`torch.stack()`텐서들을 주어진 차원을 따라 쌓아 하나의 텐서로 결합, 새로운 차원으로 확장"
   ]
  },
  {
   "cell_type": "markdown",
   "id": "977a14f3-ffdf-406c-abcc-5aeb57a857fc",
   "metadata": {},
   "source": [
    "`torch.stack` `torch.cat(unsqueeze())` 결과 같음"
   ]
  },
  {
   "cell_type": "code",
   "execution_count": 26,
   "id": "fe1cd907-ea92-48d3-b2a1-2af220a8962c",
   "metadata": {},
   "outputs": [
    {
     "name": "stdout",
     "output_type": "stream",
     "text": [
      "torch.Size([3]) torch.Size([3])\n",
      "torch.Size([2, 3])\n",
      "tensor([[0, 1, 2],\n",
      "        [3, 4, 5]])\n",
      "True\n",
      "torch.Size([3, 2])\n",
      "tensor([[0, 3],\n",
      "        [1, 4],\n",
      "        [2, 5]])\n",
      "True\n"
     ]
    }
   ],
   "source": [
    "t9 = torch.arange(0, 3)  # tensor([0, 1, 2])\n",
    "t10 = torch.arange(3, 6)  # tensor([3, 4, 5])\n",
    "\n",
    "print(t9.size(), t10.size())\n",
    "\n",
    "t11 = torch.stack((t9, t10), dim=0)\n",
    "print(t11.size())  # >>> torch.Size([2,3])\n",
    "print(t11)\n",
    "\n",
    "t12 = torch.cat((t9.unsqueeze(0), t10.unsqueeze(0)), dim=0)\n",
    "print(t11.equal(t12))\n",
    "\n",
    "\n",
    "t13 = torch.stack((t9, t10), dim=1)\n",
    "print(t13.size())  # >>> torch.Size([3,2])\n",
    "print(t13)\n",
    "\n",
    "t14 = torch.cat((t9.unsqueeze(1), t10.unsqueeze(1)), dim=1)\n",
    "print(t13.equal(t14))\n"
   ]
  },
  {
   "cell_type": "markdown",
   "id": "47c2cc19-48ce-42b4-ae37-79737e8d4fe7",
   "metadata": {},
   "source": [
    "위와 마찬가지"
   ]
  },
  {
   "cell_type": "markdown",
   "id": "6afb45cb-8b9f-4fc7-9272-b483dfa22a80",
   "metadata": {},
   "source": [
    "## **n_tensor_vstack_hstack.py**"
   ]
  },
  {
   "cell_type": "code",
   "execution_count": 27,
   "id": "8afd8350-5c17-4493-a3cf-d15586fece54",
   "metadata": {},
   "outputs": [
    {
     "name": "stdout",
     "output_type": "stream",
     "text": [
      "tensor([[1, 2, 3],\n",
      "        [4, 5, 6]])\n",
      "torch.Size([2, 2, 3])\n",
      "torch.Size([2, 2, 3])\n",
      "torch.Size([4, 2, 3])\n",
      "tensor([[[ 1,  2,  3],\n",
      "         [ 4,  5,  6]],\n",
      "\n",
      "        [[ 7,  8,  9],\n",
      "         [10, 11, 12]],\n",
      "\n",
      "        [[13, 14, 15],\n",
      "         [16, 17, 18]],\n",
      "\n",
      "        [[19, 20, 21],\n",
      "         [22, 23, 24]]])\n",
      "################################################## 1\n"
     ]
    }
   ],
   "source": [
    "import torch\n",
    "\n",
    "t1 = torch.tensor([1, 2, 3])\n",
    "t2 = torch.tensor([4, 5, 6])\n",
    "t3 = torch.vstack((t1, t2))\n",
    "print(t3)\n",
    "\n",
    "t4 = torch.tensor([[1], [2], [3]])\n",
    "t5 = torch.tensor([[4], [5], [6]])\n",
    "t6 = torch.vstack((t4, t5))\n",
    "\n",
    "t7 = torch.tensor([\n",
    "  [[1, 2, 3], [4, 5, 6]],\n",
    "  [[7, 8, 9], [10, 11, 12]]\n",
    "])\n",
    "print(t7.shape)\n",
    "\n",
    "t8 = torch.tensor([\n",
    "  [[13, 14, 15], [16, 17, 18]],\n",
    "  [[19, 20, 21], [22, 23, 24]]\n",
    "])\n",
    "print(t8.shape)\n",
    "\n",
    "t9 = torch.vstack([t7, t8])\n",
    "print(t9.shape)\n",
    "\n",
    "print(t9)\n",
    "\n",
    "print(\"#\" * 50, 1)"
   ]
  },
  {
   "cell_type": "markdown",
   "id": "db8f65c5-077b-4da6-a178-456de18a04e7",
   "metadata": {},
   "source": [
    "`torch.vstack(t1, t2)` 수직으로 쌓아서 텐서를 생성"
   ]
  },
  {
   "cell_type": "code",
   "execution_count": 28,
   "id": "21a7f3b9-5990-4a6b-99f2-88c16b1f7546",
   "metadata": {},
   "outputs": [
    {
     "name": "stdout",
     "output_type": "stream",
     "text": [
      "tensor([1, 2, 3, 4, 5, 6])\n",
      "tensor([[1, 4],\n",
      "        [2, 5],\n",
      "        [3, 6]])\n",
      "torch.Size([2, 2, 3])\n",
      "torch.Size([2, 2, 3])\n",
      "torch.Size([2, 4, 3])\n",
      "tensor([[[ 1,  2,  3],\n",
      "         [ 4,  5,  6],\n",
      "         [13, 14, 15],\n",
      "         [16, 17, 18]],\n",
      "\n",
      "        [[ 7,  8,  9],\n",
      "         [10, 11, 12],\n",
      "         [19, 20, 21],\n",
      "         [22, 23, 24]]])\n"
     ]
    }
   ],
   "source": [
    "t10 = torch.tensor([1, 2, 3])\n",
    "t11 = torch.tensor([4, 5, 6])\n",
    "t12 = torch.hstack((t10, t11))\n",
    "print(t12)\n",
    "\n",
    "\n",
    "t13 = torch.tensor([[1], [2], [3]])\n",
    "t14 = torch.tensor([[4], [5], [6]])\n",
    "t15 = torch.hstack((t13, t14))\n",
    "print(t15)\n",
    "\n",
    "\n",
    "t16 = torch.tensor([\n",
    "  [[1, 2, 3], [4, 5, 6]],\n",
    "  [[7, 8, 9], [10, 11, 12]]\n",
    "])\n",
    "print(t16.shape)\n",
    "\n",
    "\n",
    "t17 = torch.tensor([\n",
    "  [[13, 14, 15], [16, 17, 18]],\n",
    "  [[19, 20, 21], [22, 23, 24]]\n",
    "])\n",
    "print(t17.shape)\n",
    "\n",
    "\n",
    "t18 = torch.hstack([t16, t17])\n",
    "print(t18.shape)\n",
    "\n",
    "\n",
    "print(t18)"
   ]
  },
  {
   "cell_type": "markdown",
   "id": "a2641126-4f55-4422-b833-2d793fc42094",
   "metadata": {},
   "source": [
    "`torch.hstack(t1, t2)` 수평으로 쌓아서 텐서를 생성"
   ]
  },
  {
   "cell_type": "markdown",
   "id": "334142ba-13c0-4ac6-a973-a620dcd510c2",
   "metadata": {},
   "source": [
    "## **숙제 후기**"
   ]
  },
  {
   "cell_type": "markdown",
   "id": "074b4c74-f523-4bb0-96f9-a638cc570fcf",
   "metadata": {},
   "source": [
    "_02_Tensors는 텐서를 다루는걸 익히는 챕터였다. 텐서, 무엇보다 차원을 이해하는것이 가장 중요하다고 생각되며 각 연산들은 차원만 이해한다면 어떻게 동작하는지 알 수 있다고 생각되며 확실하게 짚고 넘어가야 추후 어려움이 없을것같다."
   ]
  }
 ],
 "metadata": {
  "kernelspec": {
   "display_name": "Python 3 (ipykernel)",
   "language": "python",
   "name": "python3"
  },
  "language_info": {
   "codemirror_mode": {
    "name": "ipython",
    "version": 3
   },
   "file_extension": ".py",
   "mimetype": "text/x-python",
   "name": "python",
   "nbconvert_exporter": "python",
   "pygments_lexer": "ipython3",
   "version": "3.10.14"
  }
 },
 "nbformat": 4,
 "nbformat_minor": 5
}
